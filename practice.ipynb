{
 "cells": [
  {
   "cell_type": "code",
   "execution_count": 4,
   "id": "a2c39100",
   "metadata": {},
   "outputs": [
    {
     "name": "stdout",
     "output_type": "stream",
     "text": [
      "Hello Daniyal  Raza!\n"
     ]
    }
   ],
   "source": [
    "print(\"Hello Daniyal  Raza!\")"
   ]
  },
  {
   "cell_type": "markdown",
   "id": "644c262c",
   "metadata": {},
   "source": [
    "# Marksheet    "
   ]
  },
  {
   "cell_type": "code",
   "execution_count": 27,
   "id": "0f2ebc71",
   "metadata": {},
   "outputs": [
    {
     "name": "stdout",
     "output_type": "stream",
     "text": [
      "Please Enter Your Marks So I Can Calculate Your Percentage And tell About Your Grade \n",
      "Enter Your English subject Marks 79\n",
      "Enter Your Mathematic Subject Marks 79\n",
      "Enter Your Physics Subject Marks 79\n",
      "Your Percentage is 79.0% Grade A\n"
     ]
    }
   ],
   "source": [
    "print(\"Please Enter Your Marks So I Can Calculate Your Percentage And tell About Your Grade \")\n",
    "\n",
    "Eng = int(input(\"Enter Your English subject Marks \"))\n",
    "Math =int(input(\"Enter Your Mathematic Subject Marks \"))\n",
    "Phy = int(input(\"Enter Your Physics Subject Marks \"))\n",
    "\n",
    "percent = (Eng+Math+Phy)/300*100\n",
    "\n",
    "if 100>percent and percent >=80:\n",
    "    print(\"Your Percentage is \"+ str(percent) + \"%  Grade A+\");\n",
    "elif 80> percent and percent >=70:\n",
    "    print(\"Your Percentage is \"+str(percent)+\"% Grade A\");\n",
    "elif 70> percent and percent >=60:\n",
    "    print(\"Your Percentage is  \"+ str(percent)+ \"% Grade B \")\n",
    "elif 60> percent and percent >=50:\n",
    "    print(\"Your Percentage is \"+ str(percent)+\"% Grade C \")\n",
    "elif 50> percent and percent >=40:\n",
    "    print(\"Your Percentage is \"+ str(percent)+\"% Grade D\")\n",
    "elif 40> percent and percent >=35:\n",
    "    print(\"Your Percentage is \" + str(percent) + \"% Grade E\")\n",
    "elif 35> percent and percent >=0:\n",
    "    print(\"Your Percentage is \"+ str(percent) + \"% You are Fail\")\n",
    "else:\n",
    "    (\"You Did Not Enter The Appropriate Numbers\")"
   ]
  },
  {
   "cell_type": "code",
   "execution_count": 29,
   "id": "1830f114",
   "metadata": {},
   "outputs": [
    {
     "name": "stdout",
     "output_type": "stream",
     "text": [
      "Twinkle, twinkle,little star,\n",
      " How I wonder what you are!\n",
      " \t up above the world so high,\n",
      " \tLike a diamond in the sky\n",
      "Twinkle,twinkle,little star,\n",
      " \t how i wonder what you are\n"
     ]
    }
   ],
   "source": [
    " #write a python program to print the following string in a specific format (see the output)\n",
    "    \n",
    "print(\"Twinkle, twinkle,little star,\\n How I wonder what you are!\\n \\t up above the world so high,\\n \\tLike a diamond in the sky\\nTwinkle,twinkle,little star,\\n \\t how i wonder what you are\")    "
   ]
  },
  {
   "cell_type": "code",
   "execution_count": 17,
   "id": "f6b7c289",
   "metadata": {},
   "outputs": [
    {
     "name": "stdout",
     "output_type": "stream",
     "text": [
      "Enter the Radius of the Circle20\n",
      "The Area of the Circle with radius 20.0 is 1256.6370614359173\n"
     ]
    }
   ],
   "source": [
    "#Write a Python program which accepts the radius of a circle from the user and compute\n",
    "#the area.\n",
    "from math import pi\n",
    "R= float(input(\"Enter the Radius of the Circle\"));\n",
    "print(\"The Area of the Circle with radius \" + str(R) + \" is \" + str(pi * R**2) ) "
   ]
  },
  {
   "cell_type": "code",
   "execution_count": 26,
   "id": "060f79cb",
   "metadata": {},
   "outputs": [
    {
     "name": "stdout",
     "output_type": "stream",
     "text": [
      "Enter your first  name daniyal\n",
      "Enter you last nameraza\n",
      "raza daniyal\n"
     ]
    }
   ],
   "source": [
    "#Write a Python program which accepts the user's first and last name and print them in\n",
    "#reverse order with a space between them.\n",
    "\n",
    "f_name= input(\"Enter your first  name \");\n",
    "l_name= input(\"Enter you last name\");\n",
    "print(l_name+\" \"+f_name)"
   ]
  },
  {
   "cell_type": "code",
   "execution_count": 1,
   "id": "5f899ed9",
   "metadata": {},
   "outputs": [
    {
     "name": "stdout",
     "output_type": "stream",
     "text": [
      "Enter the number1\n",
      "20\n",
      "Enter the number2\n",
      "24\n",
      "44 sum\n"
     ]
    }
   ],
   "source": [
    "#Write a python program which takes two inputs from user and print them addition\n",
    "\n",
    "num1=int(input(\"Enter the number1\\n\"));\n",
    "num2=int(input(\"Enter the number2\\n\"));\n",
    "sum= num1+num2;\n",
    "print(sum,\"sum\")\n",
    "\n"
   ]
  },
  {
   "cell_type": "code",
   "execution_count": 20,
   "id": "cf6103fa",
   "metadata": {},
   "outputs": [
    {
     "name": "stdout",
     "output_type": "stream",
     "text": [
      "Please Enter The Number20\n",
      "20  is Even number \n"
     ]
    }
   ],
   "source": [
    "#Write a program which take input from user and identify that the given number is even\n",
    "#or odd?\n",
    "num = int(input(\"Please Enter The Number\"))\n",
    "if num%2==0:\n",
    "    print(num,\" is  The Even number \")\n",
    "else:\n",
    "    print(num, \" is The Odd Number\")"
   ]
  },
  {
   "cell_type": "code",
   "execution_count": 22,
   "id": "e6c2a195",
   "metadata": {},
   "outputs": [
    {
     "name": "stdout",
     "output_type": "stream",
     "text": [
      "5\n"
     ]
    }
   ],
   "source": [
    "#Write a program which print the length of the list?\n",
    "\n",
    "lst = [\"Python\",\"Data Science\",\"Machine Learning\",\"IOT\",\"Artificial Intelligence \"]\n",
    "print(len(lst))"
   ]
  },
  {
   "cell_type": "code",
   "execution_count": 11,
   "id": "a88bd6f7",
   "metadata": {},
   "outputs": [
    {
     "name": "stdout",
     "output_type": "stream",
     "text": [
      "Enter How many element you want in list2\n",
      "Enter the elements24\n",
      "Enter the elements20\n",
      "The Sum of the  given list is  44\n"
     ]
    }
   ],
   "source": [
    "#Write a Python program to sum all the numeric items in a list?\n",
    "\n",
    "lst = []\n",
    "num = int(input(\"Enter How many element you want in list\"))\n",
    "for i in range(num):\n",
    "    number= int(input(\"Enter the elements \"))\n",
    "    lst.append(number)\n",
    "print(\"The Sum of the  given list is \", sum(lst))"
   ]
  },
  {
   "cell_type": "code",
   "execution_count": 15,
   "id": "581d38d7",
   "metadata": {},
   "outputs": [
    {
     "name": "stdout",
     "output_type": "stream",
     "text": [
      "The Maximum Number from the List is =  76\n"
     ]
    }
   ],
   "source": [
    "#write  python program to sum all the numeeric item in a list?\n",
    "a = [1,2,3,4,20,30,24,4,54,76,2,1]\n",
    "print(\"The Maximum Number from the List is = \" , max(a))"
   ]
  },
  {
   "cell_type": "code",
   "execution_count": 82,
   "id": "2073e0e5",
   "metadata": {},
   "outputs": [
    {
     "name": "stdout",
     "output_type": "stream",
     "text": [
      "1\n",
      "1\n",
      "2\n",
      "3\n"
     ]
    }
   ],
   "source": [
    "#write a program that print out all the element of the list that are less than 5\n",
    "\n",
    "b = [1,1,2,3,5,8,13,21,34,55,89,20,24]\n",
    "for i in b:\n",
    "    if i<5:\n",
    "        print(i)\n",
    "        \n",
    "        "
   ]
  },
  {
   "cell_type": "code",
   "execution_count": null,
   "id": "dd0e2df6",
   "metadata": {},
   "outputs": [],
   "source": []
  },
  {
   "cell_type": "code",
   "execution_count": null,
   "id": "c0b20a6c",
   "metadata": {},
   "outputs": [],
   "source": []
  }
 ],
 "metadata": {
  "kernelspec": {
   "display_name": "Python 3",
   "language": "python",
   "name": "python3"
  },
  "language_info": {
   "codemirror_mode": {
    "name": "ipython",
    "version": 3
   },
   "file_extension": ".py",
   "mimetype": "text/x-python",
   "name": "python",
   "nbconvert_exporter": "python",
   "pygments_lexer": "ipython3",
   "version": "3.8.8"
  }
 },
 "nbformat": 4,
 "nbformat_minor": 5
}
